{
 "cells": [
  {
   "cell_type": "code",
   "execution_count": 10,
   "metadata": {},
   "outputs": [],
   "source": [
    "import numpy as np\n",
    "import pandas as pd\n",
    "from sklearn.metrics import mean_squared_error, mean_absolute_error\n",
    "from sklearn.metrics.pairwise import cosine_similarity\n",
    "from sklearn.preprocessing import OneHotEncoder"
   ]
  },
  {
   "cell_type": "markdown",
   "metadata": {},
   "source": [
    "## Ejercicio 1: Filtrado Colaborativo Basado en Ítems\n",
    "\n",
    "Implementa un sistema de recomendación basado en ítems utilizando la matriz de calificaciones proporcionada en el ejemplo práctico 1. Recomendale al Usuario 'B' dos productos que aún no ha calificado."
   ]
  },
  {
   "cell_type": "code",
   "execution_count": 2,
   "metadata": {},
   "outputs": [
    {
     "name": "stdout",
     "output_type": "stream",
     "text": [
      "Matriz de calificaciones original:\n",
      "   Item1  Item2  Item3  Item4  Item5  Item6\n",
      "A      5      3      4    3.0      1    4.0\n",
      "B      3      1      3    NaN      5    NaN\n",
      "C      4      3      3    5.0      4    5.0\n",
      "D      4      3      5    4.0      2    3.0\n"
     ]
    }
   ],
   "source": [
    "ratings = pd.DataFrame({\n",
    "    'Item1': {'A': 5, 'B': 3, 'C': 4, 'D': 4},\n",
    "    'Item2': {'A': 3, 'B': 1, 'C': 3, 'D': 3},\n",
    "    'Item3': {'A': 4, 'B': 3, 'C': 3, 'D': 5},\n",
    "    'Item4': {'A': 3, 'B': np.nan, 'C': 5, 'D': 4},\n",
    "    'Item5': {'A': 1, 'B': 5, 'C': 4, 'D': 2},\n",
    "    'Item6': {'A': 4, 'B': np.nan, 'C': 5, 'D': 3}\n",
    "})\n",
    "\n",
    "print(\"Matriz de calificaciones original:\")\n",
    "print(ratings)"
   ]
  },
  {
   "cell_type": "code",
   "execution_count": 3,
   "metadata": {},
   "outputs": [
    {
     "name": "stdout",
     "output_type": "stream",
     "text": [
      "\n",
      "Matriz de similitud entre ítems:\n",
      "          Item1     Item2     Item3     Item4     Item5     Item6\n",
      "Item1  1.000000  0.977008  0.977534  0.887796  0.798549  0.905204\n",
      "Item2  0.977008  1.000000  0.959532  0.962140  0.724462  0.962140\n",
      "Item3  0.977534  0.959532  1.000000  0.865340  0.787008  0.846929\n",
      "Item4  0.887796  0.962140  0.865340  1.000000  0.646395  0.980000\n",
      "Item5  0.798549  0.724462  0.787008  0.646395  1.000000  0.625543\n",
      "Item6  0.905204  0.962140  0.846929  0.980000  0.625543  1.000000\n"
     ]
    }
   ],
   "source": [
    "# Transponer la matriz para tener ítems como filas\n",
    "item_ratings = ratings.T\n",
    "\n",
    "# Calcular similitud entre ítems usando similitud del coseno\n",
    "item_similarity = pd.DataFrame(\n",
    "    cosine_similarity(item_ratings.fillna(0)),\n",
    "    index=item_ratings.index,\n",
    "    columns=item_ratings.index\n",
    ")\n",
    "\n",
    "print(\"\\nMatriz de similitud entre ítems:\")\n",
    "print(item_similarity)"
   ]
  },
  {
   "cell_type": "code",
   "execution_count": 4,
   "metadata": {},
   "outputs": [
    {
     "name": "stdout",
     "output_type": "stream",
     "text": [
      "\n",
      "Ítems no calificados por el Usuario B: ['Item4', 'Item6']\n"
     ]
    }
   ],
   "source": [
    "# Identificar ítems que el Usuario B no ha calificado\n",
    "unrated_items = ratings.columns[ratings.loc['B'].isna()].tolist()\n",
    "print(f\"\\nÍtems no calificados por el Usuario B: {unrated_items}\")\n",
    "\n",
    "# Calcular predicciones para los ítems no calificados\n",
    "predictions = {}"
   ]
  },
  {
   "cell_type": "code",
   "execution_count": 5,
   "metadata": {},
   "outputs": [
    {
     "name": "stdout",
     "output_type": "stream",
     "text": [
      "\n",
      "Predicciones para ítems no calificados:\n",
      "Item4: 2.81\n",
      "Item6: 2.80\n"
     ]
    }
   ],
   "source": [
    "for item in unrated_items:\n",
    "    # Obtener ítems que B ha calificado\n",
    "    rated_items = ratings.columns[~ratings.loc['B'].isna()].tolist()\n",
    "    \n",
    "    # Calcular predicción ponderada\n",
    "    numerator = 0\n",
    "    denominator = 0\n",
    "    \n",
    "    for rated_item in rated_items:\n",
    "        # Obtener calificación del usuario para el ítem calificado\n",
    "        rating = ratings.loc['B', rated_item]\n",
    "        # Obtener similitud entre el ítem no calificado y el ítem calificado\n",
    "        similarity = item_similarity.loc[item, rated_item]\n",
    "        \n",
    "        numerator += similarity * rating\n",
    "        denominator += abs(similarity)\n",
    "    \n",
    "    # Calcular predicción\n",
    "    if denominator > 0:\n",
    "        predictions[item] = numerator / denominator\n",
    "    else:\n",
    "        predictions[item] = 0\n",
    "\n",
    "print(\"\\nPredicciones para ítems no calificados:\")\n",
    "for item, prediction in predictions.items():\n",
    "    print(f\"{item}: {prediction:.2f}\")"
   ]
  },
  {
   "cell_type": "code",
   "execution_count": 6,
   "metadata": {},
   "outputs": [
    {
     "name": "stdout",
     "output_type": "stream",
     "text": [
      "\n",
      "Recomendaciones para el Usuario B:\n",
      "Item4 (puntuación predicha: 2.81)\n",
      "Item6 (puntuación predicha: 2.80)\n"
     ]
    }
   ],
   "source": [
    "recommendations = sorted(predictions.items(), key=lambda x: x[1], reverse=True)[:2]\n",
    "print(\"\\nRecomendaciones para el Usuario B:\")\n",
    "for item, score in recommendations:\n",
    "    print(f\"{item} (puntuación predicha: {score:.2f})\")"
   ]
  },
  {
   "cell_type": "markdown",
   "metadata": {},
   "source": [
    "## Ejercicio 2: Evaluación de Métricas\n",
    "Dada la siguiente matriz de calificaciones reales y predichas para un conjunto de usuarios y productos, calcula el RMSE y el MAE.\n",
    "\n",
    "|Usuario|\tProducto1 (Real)|\tProducto1 (Pred)|\tProducto2 (Real)|\tProducto2 (Pred)|\n",
    "|---|---|---|---|---|\n",
    "|A|\t5|\t4.5|\t3|\t3.5|\n",
    "|B|\t2|\t2.0|\t4|\t3.8|\n",
    "|C|\t0|\t1.2|\t5|\t4.9|\n",
    "|D|\t3|\t3.5|\t0|\t0.2|"
   ]
  },
  {
   "cell_type": "code",
   "execution_count": null,
   "metadata": {},
   "outputs": [
    {
     "name": "stdout",
     "output_type": "stream",
     "text": [
      "Datos originales:\n",
      "  Usuario  Producto1_Real  Producto1_Pred  Producto2_Real  Producto2_Pred\n",
      "0       A               5             4.5               3             3.5\n",
      "1       B               2             2.0               4             3.8\n",
      "2       C               0             1.2               5             4.9\n",
      "3       D               3             3.5               0             0.2\n",
      "\n",
      "Valores reales: [5 3 2 4 0 5 3 0]\n",
      "Valores predichos: [4.5 3.5 2.  3.8 1.2 4.9 3.5 0.2]\n",
      "\n",
      "RMSE (Root Mean Square Error): 0.5339\n",
      "MAE (Mean Absolute Error): 0.4\n"
     ]
    }
   ],
   "source": [
    "data = {\n",
    "    'Usuario': ['A', 'B', 'C', 'D'],\n",
    "    'Producto1_Real': [5, 2, 0, 3],\n",
    "    'Producto1_Pred': [4.5, 2.0, 1.2, 3.5],\n",
    "    'Producto2_Real': [3, 4, 5, 0],\n",
    "    'Producto2_Pred': [3.5, 3.8, 4.9, 0.2]\n",
    "}\n",
    "\n",
    "df = pd.DataFrame(data)\n",
    "print(\"Datos originales:\")\n",
    "print(df)\n",
    "\n",
    "# Extraer valores reales y predichos\n",
    "y_true = np.array(df[['Producto1_Real', 'Producto2_Real']]).flatten()\n",
    "y_pred = np.array(df[['Producto1_Pred', 'Producto2_Pred']]).flatten()\n",
    "\n",
    "# Calcular RMSE\n",
    "rmse = np.sqrt(mean_squared_error(y_true, y_pred))\n",
    "# Calcular MAE\n",
    "mae = mean_absolute_error(y_true, y_pred)\n",
    "\n",
    "print(\"\\nValores reales:\", y_true)\n",
    "print(\"Valores predichos:\", y_pred)\n",
    "print(\"\\nRMSE (Root Mean Square Error):\", round(rmse, 4))\n",
    "print(\"MAE (Mean Absolute Error):\", round(mae, 4))"
   ]
  },
  {
   "cell_type": "code",
   "execution_count": 9,
   "metadata": {},
   "outputs": [
    {
     "name": "stdout",
     "output_type": "stream",
     "text": [
      "\n",
      "Cálculo detallado:\n",
      "Errores: [ 0.5 -0.5  0.   0.2 -1.2  0.1 -0.5 -0.2]\n",
      "Errores cuadrados: [0.25 0.25 0.   0.04 1.44 0.01 0.25 0.04]\n",
      "Errores absolutos: [0.5 0.5 0.  0.2 1.2 0.1 0.5 0.2]\n",
      "\n",
      "RMSE = sqrt(mean(squared_errors)) = sqrt(0.2850) = 0.5339\n",
      "MAE = mean(absolute_errors) = 0.4000\n"
     ]
    }
   ],
   "source": [
    "print(\"\\nCálculo detallado:\")\n",
    "errors = y_true - y_pred\n",
    "squared_errors = errors**2\n",
    "absolute_errors = np.abs(errors)\n",
    "\n",
    "print(\"Errores:\", errors)\n",
    "print(\"Errores cuadrados:\", squared_errors)\n",
    "print(\"Errores absolutos:\", absolute_errors)\n",
    "\n",
    "print(f\"\\nRMSE = sqrt(mean(squared_errors)) = sqrt({np.mean(squared_errors):.4f}) = {rmse:.4f}\")\n",
    "print(f\"MAE = mean(absolute_errors) = {np.mean(absolute_errors):.4f}\")"
   ]
  },
  {
   "cell_type": "markdown",
   "metadata": {},
   "source": [
    "### Ejercicio 3: Filtrado Basado en Contenido Avanzado\n",
    "Ampliando el ejemplo práctico 2, incluye una nueva columna que clasifique los productos en categorías (por ejemplo, 'Electrónica', 'Cocina', 'Literatura', 'Moda', 'Juguetes'). Utiliza esta información para mejorar el sistema de recomendación basado en contenido, de manera que solo recomiende productos de la misma categoría que el producto objetivo."
   ]
  },
  {
   "cell_type": "code",
   "execution_count": 11,
   "metadata": {},
   "outputs": [
    {
     "name": "stdout",
     "output_type": "stream",
     "text": [
      "Dataset original de productos:\n",
      "  ProductID  Precio  Tamaño  Potencia    Categoría\n",
      "0        P1     150       2         3  Electrónica\n",
      "1        P2     300       4         5  Electrónica\n",
      "2        P3      80       1         2       Cocina\n",
      "3        P4     450       5         5  Electrónica\n",
      "4        P5     200       3         4       Cocina\n",
      "5        P6      90       1         2   Literatura\n",
      "6        P7     120       2         3     Juguetes\n",
      "7        P8     350       4         5         Moda\n"
     ]
    }
   ],
   "source": [
    "data = {\n",
    "    'ProductID': ['P1', 'P2', 'P3', 'P4', 'P5', 'P6', 'P7', 'P8'],\n",
    "    'Precio': [150, 300, 80, 450, 200, 90, 120, 350],\n",
    "    'Tamaño': [2, 4, 1, 5, 3, 1, 2, 4],\n",
    "    'Potencia': [3, 5, 2, 5, 4, 2, 3, 5],\n",
    "    'Categoría': ['Electrónica', 'Electrónica', 'Cocina', 'Electrónica', \n",
    "                  'Cocina', 'Literatura', 'Juguetes', 'Moda']\n",
    "}\n",
    "\n",
    "df = pd.DataFrame(data)\n",
    "print(\"Dataset original de productos:\")\n",
    "print(df)"
   ]
  },
  {
   "cell_type": "code",
   "execution_count": 13,
   "metadata": {},
   "outputs": [
    {
     "name": "stdout",
     "output_type": "stream",
     "text": [
      "\n",
      "Características normalizadas y codificadas:\n",
      "     Precio  Tamaño  Potencia  Cat_Cocina  Cat_Electrónica  Cat_Juguetes  \\\n",
      "0  0.189189    0.25  0.333333         0.0              1.0           0.0   \n",
      "1  0.594595    0.75  1.000000         0.0              1.0           0.0   \n",
      "2  0.000000    0.00  0.000000         1.0              0.0           0.0   \n",
      "3  1.000000    1.00  1.000000         0.0              1.0           0.0   \n",
      "4  0.324324    0.50  0.666667         1.0              0.0           0.0   \n",
      "5  0.027027    0.00  0.000000         0.0              0.0           0.0   \n",
      "6  0.108108    0.25  0.333333         0.0              0.0           1.0   \n",
      "7  0.729730    0.75  1.000000         0.0              0.0           0.0   \n",
      "\n",
      "   Cat_Literatura  Cat_Moda  \n",
      "0             0.0       0.0  \n",
      "1             0.0       0.0  \n",
      "2             0.0       0.0  \n",
      "3             0.0       0.0  \n",
      "4             0.0       0.0  \n",
      "5             1.0       0.0  \n",
      "6             0.0       0.0  \n",
      "7             0.0       1.0  \n"
     ]
    }
   ],
   "source": [
    "numeric_features = ['Precio', 'Tamaño', 'Potencia']\n",
    "categorical_features = ['Categoría']\n",
    "\n",
    "# Normalizar características numéricas\n",
    "df_numeric = df[numeric_features].copy()\n",
    "for feature in numeric_features:\n",
    "    df_numeric[feature] = (df_numeric[feature] - df_numeric[feature].min()) / (df_numeric[feature].max() - df_numeric[feature].min())\n",
    "\n",
    "# Codificar características categóricas usando one-hot encoding\n",
    "encoder = OneHotEncoder(sparse_output=False)\n",
    "encoded_categories = encoder.fit_transform(df[categorical_features])\n",
    "category_names = [f\"Cat_{cat}\" for cat in encoder.categories_[0]]\n",
    "df_categorical = pd.DataFrame(encoded_categories, columns=category_names, index=df.index)\n",
    "\n",
    "# Combinar características numéricas y categóricas\n",
    "df_features = pd.concat([df_numeric, df_categorical], axis=1)\n",
    "print(\"\\nCaracterísticas normalizadas y codificadas:\")\n",
    "print(df_features)"
   ]
  },
  {
   "cell_type": "code",
   "execution_count": 14,
   "metadata": {},
   "outputs": [
    {
     "name": "stdout",
     "output_type": "stream",
     "text": [
      "\n",
      "Matriz de similitud entre productos:\n",
      "ProductID        P1        P2        P3        P4        P5        P6  \\\n",
      "ProductID                                                               \n",
      "P1         1.000000  0.869741  0.000000  0.805891  0.276950  0.004648   \n",
      "P2         0.869741  1.000000  0.000000  0.979302  0.538896  0.009407   \n",
      "P3         0.000000  0.000000  1.000000  0.000000  0.745432  0.000000   \n",
      "P4         0.805891  0.979302  0.000000  1.000000  0.555717  0.013509   \n",
      "P5         0.276950  0.538896  0.745432  0.555717  1.000000  0.006532   \n",
      "P6         0.004648  0.009407  0.000000  0.013509  0.006532  1.000000   \n",
      "P7         0.162086  0.314724  0.000000  0.317550  0.261747  0.002683   \n",
      "P8         0.340562  0.664536  0.000000  0.704764  0.541655  0.011207   \n",
      "\n",
      "ProductID        P7        P8  \n",
      "ProductID                      \n",
      "P1         0.162086  0.340562  \n",
      "P2         0.314724  0.664536  \n",
      "P3         0.000000  0.000000  \n",
      "P4         0.317550  0.704764  \n",
      "P5         0.261747  0.541655  \n",
      "P6         0.002683  0.011207  \n",
      "P7         1.000000  0.313117  \n",
      "P8         0.313117  1.000000  \n"
     ]
    }
   ],
   "source": [
    "# Calcular matriz de similitud del coseno\n",
    "similarity_matrix = pd.DataFrame(\n",
    "    cosine_similarity(df_features),\n",
    "    index=df['ProductID'],\n",
    "    columns=df['ProductID']\n",
    ")\n",
    "print(\"\\nMatriz de similitud entre productos:\")\n",
    "print(similarity_matrix)"
   ]
  },
  {
   "cell_type": "code",
   "execution_count": 15,
   "metadata": {},
   "outputs": [],
   "source": [
    "def recommend_same_category(product_id, similarity_matrix, df, top_n=3):\n",
    "    # Obtener la categoría del producto objetivo\n",
    "    target_category = df.loc[df['ProductID'] == product_id, 'Categoría'].values[0]\n",
    "    \n",
    "    # Filtrar productos de la misma categoría (excluyendo el producto objetivo)\n",
    "    same_category_products = df[df['Categoría'] == target_category]\n",
    "    same_category_products = same_category_products[same_category_products['ProductID'] != product_id]\n",
    "    \n",
    "    if same_category_products.empty:\n",
    "        return \"No hay otros productos en la misma categoría.\"\n",
    "    \n",
    "    # Obtener similitudes para productos de la misma categoría\n",
    "    similarities = similarity_matrix.loc[product_id, same_category_products['ProductID']]\n",
    "    \n",
    "    # Ordenar por similitud y obtener los top_n\n",
    "    recommendations = similarities.sort_values(ascending=False).head(top_n)\n",
    "    \n",
    "    return recommendations"
   ]
  },
  {
   "cell_type": "code",
   "execution_count": 16,
   "metadata": {},
   "outputs": [],
   "source": [
    "# Probar el sistema de recomendación para diferentes productos\n",
    "test_products = ['P1', 'P3', 'P6']"
   ]
  },
  {
   "cell_type": "code",
   "execution_count": 17,
   "metadata": {},
   "outputs": [
    {
     "name": "stdout",
     "output_type": "stream",
     "text": [
      "\n",
      "Recomendaciones basadas en contenido (misma categoría):\n",
      "\n",
      "Para P1 (Electrónica):\n",
      "  - P2 (Electrónica): 0.8697\n",
      "  - P4 (Electrónica): 0.8059\n",
      "\n",
      "Para P3 (Cocina):\n",
      "  - P5 (Cocina): 0.7454\n",
      "\n",
      "Para P6 (Literatura):\n",
      "No hay otros productos en la misma categoría.\n"
     ]
    }
   ],
   "source": [
    "print(\"\\nRecomendaciones basadas en contenido (misma categoría):\")\n",
    "for product in test_products:\n",
    "    category = df.loc[df['ProductID'] == product, 'Categoría'].values[0]\n",
    "    print(f\"\\nPara {product} ({category}):\")\n",
    "\n",
    "    recommendations = recommend_same_category(product, similarity_matrix, df)\n",
    "\n",
    "    if isinstance(recommendations, str):\n",
    "        print(recommendations)\n",
    "    else:\n",
    "        for prod, sim in recommendations.items():\n",
    "            print(f\"  - {prod} ({df.loc[df['ProductID'] == prod, 'Categoría'].values[0]}): {sim:.4f}\")"
   ]
  }
 ],
 "metadata": {
  "kernelspec": {
   "display_name": "bootcamp-ds-R6wI3bVx-py3.11",
   "language": "python",
   "name": "python3"
  },
  "language_info": {
   "codemirror_mode": {
    "name": "ipython",
    "version": 3
   },
   "file_extension": ".py",
   "mimetype": "text/x-python",
   "name": "python",
   "nbconvert_exporter": "python",
   "pygments_lexer": "ipython3",
   "version": "3.11.9"
  }
 },
 "nbformat": 4,
 "nbformat_minor": 2
}
