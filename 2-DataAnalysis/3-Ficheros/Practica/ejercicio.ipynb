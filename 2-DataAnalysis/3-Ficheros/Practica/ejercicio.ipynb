{
 "cells": [
  {
   "cell_type": "markdown",
   "metadata": {},
   "source": [
    "# AutoImporter para Importaciones Simplificadas"
   ]
  },
  {
   "cell_type": "markdown",
   "metadata": {},
   "source": [
    "# Objetivo:\n",
    "\n",
    "Crear una clase en Python que, al ser importada y utilizada al inicio de un notebook o script, permita importar módulos directamente utilizando solo el nombre del archivo, sin necesidad de especificar rutas relativas o absolutas.\n",
    "\n",
    "# Descripción:\n",
    "En proyectos con estructuras de directorios complejas, es común tener que escribir rutas largas y complicadas para importar módulos ubicados en carpetas profundas. Esto puede hacer que el código sea menos legible y más propenso a errores. Para simplificar este proceso, se te pide que implementes una clase llamada AutoImporter que modifique dinámicamente el entorno de importaciones de Python.\n",
    "\n",
    "# Requisitos:\n",
    "\n",
    "1. Clase AutoImporter:\n",
    "\n",
    "    - Debe estar implementada en un archivo Python, por ejemplo, auto_importer.py.\n",
    "    - Al instanciar esta clase, debe:\n",
    "        - Añadir automáticamente al sys.path todos los subdirectorios del directorio base especificado, permitiendo que Python pueda encontrar y cargar módulos desde cualquier subdirectorio.\n",
    "        - Si no se especifica un directorio base, debe utilizar el directorio actual desde donde se ejecuta el notebook o script (Path.cwd()).\n",
    "\n",
    "2. Métodos de la Clase:\n",
    "\n",
    "    - **__init__(self, base_dir=None)**: Constructor que acepta un parámetro opcional base_dir. Si se proporciona, este será el directorio base para buscar subdirectorios; si no, se utilizará el directorio actual.\n",
    "    - **add_to_sys_path(self)**: Método que recorre recursivamente todos los subdirectorios del base_dir y los añade a sys.path.\n",
    "\n",
    "2. Uso de la Clase:\n",
    "\n",
    "    - Una vez creada la instancia de la clase AutoImporter en un notebook o script, debe ser posible importar cualquier archivo ubicado en las subcarpetas del base_dir sin necesidad de escribir la ruta completa, usando únicamente import nombre_modulo."
   ]
  },
  {
   "cell_type": "markdown",
   "metadata": {},
   "source": [
    "## Ejemplo de Uso:\n",
    "\n",
    "Supongamos que tienes la siguiente estructura de carpetas:"
   ]
  },
  {
   "cell_type": "markdown",
   "metadata": {},
   "source": [
    "````/mi_proyecto\n",
    "│\n",
    "├── /src\n",
    "│   ├── /utils\n",
    "│   │   └── mi_utilidad.py\n",
    "│   └── /models\n",
    "│       └── mi_modelo.py\n",
    "└── main.py"
   ]
  },
  {
   "cell_type": "markdown",
   "metadata": {},
   "source": [
    "Si utilizas la clase AutoImporter al inicio de main.py, podrías importar los módulos mi_utilidad.py y mi_modelo.py directamente en el código de la siguiente manera:"
   ]
  },
  {
   "cell_type": "markdown",
   "metadata": {
    "vscode": {
     "languageId": "plaintext"
    }
   },
   "source": [
    "```python\n",
    "from auto_importer import AutoImporter\n",
    "\n",
    "# Inicializa el AutoImporter, utilizando la carpeta 'src' como base\n",
    "auto_importer = AutoImporter(base_dir='src')\n",
    "\n",
    "# Ahora puedes importar los módulos directamente por su nombre\n",
    "import mi_utilidad\n",
    "import mi_modelo"
   ]
  },
  {
   "cell_type": "markdown",
   "metadata": {},
   "source": [
    "Con esta clase, ya no será necesario especificar rutas como from utils.mi_utilidad import ... o from models.mi_modelo import ..., lo que simplifica el proceso de importación en proyectos con estructuras de carpetas complejas."
   ]
  },
  {
   "cell_type": "code",
   "execution_count": null,
   "metadata": {},
   "outputs": [],
   "source": [
    "# import sys\n",
    "# from pathlib import Path\n",
    "\n",
    "# class AutoImporter:\n",
    "#     def __init__(self, base_dir=None):\n",
    "#         \"\"\"\n",
    "#         Constructor de la clase AutoImporter.\n",
    "#         Agrega todos los subdirectorios del directorio base a sys.path.\n",
    "        \n",
    "#         Args:\n",
    "#             base_dir (str): Ruta al directorio base. Si no se proporciona, se utiliza el directorio actual.\n",
    "#         \"\"\"\n",
    "#         if base_dir is None:\n",
    "#             base_dir = Path.cwd()\n",
    "#         else:\n",
    "#             base_dir = Path(base_dir).resolve()\n",
    "        \n",
    "#         self.add_to_sys_path(base_dir)\n",
    "    \n",
    "#     def add_to_sys_path(self, base_dir):\n",
    "#         \"\"\"\n",
    "#         Recorre recursivamente todos los subdirectorios del directorio base y los añade a sys.path.\n",
    "        \n",
    "#         Args:\n",
    "#             base_dir (Path): Directorio base desde el cual se añaden los subdirectorios.\n",
    "#         \"\"\"\n",
    "#         for subdir in base_dir.rglob(\"*\"):\n",
    "#             if subdir.is_dir() and str(subdir) not in sys.path:\n",
    "#                 sys.path.append(str(subdir))\n",
    "\n",
    "\n",
    "# # Ejemplo de uso:\n",
    "# # Supongamos la siguiente estructura de carpetas:\n",
    "# # src/\n",
    "# # ├── utils/\n",
    "# # │   └── mi_utilidad.py\n",
    "# # ├── models/\n",
    "# # │   └── mi_modelo.py\n",
    "# # └── main.py\n"
   ]
  }
 ],
 "metadata": {
  "kernelspec": {
   "display_name": "Python 3",
   "language": "python",
   "name": "python3"
  },
  "language_info": {
   "codemirror_mode": {
    "name": "ipython",
    "version": 3
   },
   "file_extension": ".py",
   "mimetype": "text/x-python",
   "name": "python",
   "nbconvert_exporter": "python",
   "pygments_lexer": "ipython3",
   "version": "3.11.9"
  }
 },
 "nbformat": 4,
 "nbformat_minor": 2
}
