{
 "cells": [
  {
   "cell_type": "markdown",
   "metadata": {},
   "source": [
    "# Ejercicio Scraping\n",
    "\n",
    "Descargar letras de canciones\n",
    "\n",
    "Utilizando beautiful soup descargar todas las canciones de [Lasso](https://es.wikipedia.org/wiki/Lasso_(cantante)) que hay en [letras.com](https://www.letras.com/lasso/)"
   ]
  },
  {
   "cell_type": "code",
   "execution_count": 3,
   "metadata": {},
   "outputs": [
    {
     "data": {
      "text/plain": [
       "['Ojos Marrones',\n",
       " 'En Otra Vida (part. Yami Safdie y Carin Leon)',\n",
       " 'Odio Que No Te Odio (part. Cami)',\n",
       " 'De Tú a Tú',\n",
       " 'No Me Trates de Olvidar',\n",
       " 'Hasta Ese Día',\n",
       " 'Ibuprofeno',\n",
       " 'Kamikaze',\n",
       " 'Los Hombres Son Todos Iguales',\n",
       " 'Siempre Llegas Tarde (part. Sofia Reyes)',\n",
       " 'Subtítulos (part. Danna Paola)',\n",
       " 'Te Veo',\n",
       " 'Un Millón Como Tú (part. Cami)',\n",
       " 'Algo Mas',\n",
       " 'Feliz Por Ti',\n",
       " 'La Lotería',\n",
       " 'Los Amigos No Se Besan En La Boca (part. Ana Guerra)',\n",
       " 'Ojos Marrones (part. Sebastian Yatra)',\n",
       " 'Quiero Que Me Quieras',\n",
       " 'Tenemos Que Hablar',\n",
       " '¿vienes o voy?',\n",
       " '... pero no me dejes',\n",
       " 'Algodón',\n",
       " 'Bilingües (part. Mau y Ricky)',\n",
       " 'Cerebro',\n",
       " 'Cero',\n",
       " 'Clavos',\n",
       " 'Cómo Te Odio',\n",
       " 'Corriendo Con Tijeras',\n",
       " 'ctrl-z',\n",
       " 'De mí, de mí, de mí (part. José Madero)',\n",
       " 'Diferente',\n",
       " 'DIOS',\n",
       " 'Elefantes En La Barriga',\n",
       " 'En Otra Vida (part. Yami Safdie)',\n",
       " 'Escalas Eternas',\n",
       " 'Ese Final Ya Me Lo Sé',\n",
       " 'Eva',\n",
       " 'Final Feliz',\n",
       " 'Gracias',\n",
       " 'Huyendo',\n",
       " 'Ladrones (part. Danna Paola)',\n",
       " 'Mala Memoria',\n",
       " 'Me Arruinaste Netflix (part. Micro TDH)',\n",
       " 'Mi Canción Favorita (part. Susana Cala)',\n",
       " 'Mi Imaginación',\n",
       " 'Mientras Mentias',\n",
       " 'Mmm',\n",
       " 'No Escuches Esta Canción (part. Micro TDH)',\n",
       " 'No Pares De Bailar',\n",
       " 'Ojala',\n",
       " 'Oma',\n",
       " 'Perdón Pero No Te Perdono',\n",
       " 'Plástico',\n",
       " 'QUEBRANTO (part. Leo Rizzi)',\n",
       " 'Quédate Con Él',\n",
       " 'Quiero Que Vuelvas',\n",
       " 'Rompecabezas',\n",
       " 'Sin Mover Un Dedo',\n",
       " 'Sin Otro Sentido',\n",
       " 'Souvenir',\n",
       " 'Tiempo Fallo',\n",
       " 'Tiempo Pasará (La Historia De Saria)',\n",
       " 'Todo Regresa',\n",
       " 'Vamos a Mi Ritmo (part. Isabela Souza)',\n",
       " 'Yo-yo']"
      ]
     },
     "execution_count": 3,
     "metadata": {},
     "output_type": "execute_result"
    }
   ],
   "source": [
    "from bs4 import BeautifulSoup\n",
    "import requests\n",
    "import os\n",
    "\n",
    "letras_url = \"https://www.letras.com/lasso/\"\n",
    "\n",
    "def descargar_letras(artista):\n",
    "    html = requests.get(f'https://www.letras.com/{artista}/mais_acessadas.html')\n",
    "    soup = BeautifulSoup(html.text,'html.parser')\n",
    "    letras = []\n",
    "\n",
    "    todas_letras = soup.find_all('a',class_='songList-table-songName font --base --size16')\n",
    "    \n",
    "    for nombre in todas_letras:\n",
    "        letras.append(nombre.text.strip())\n",
    "\n",
    "    return letras\n",
    "    \n",
    "        \n",
    "artista = \"lasso\"\n",
    "descargar_letras(artista)"
   ]
  }
 ],
 "metadata": {
  "instance_type": "ml.t3.medium",
  "kernelspec": {
   "display_name": "bootcamp-ds-R6wI3bVx-py3.11",
   "language": "python",
   "name": "python3"
  },
  "language_info": {
   "codemirror_mode": {
    "name": "ipython",
    "version": 3
   },
   "file_extension": ".py",
   "mimetype": "text/x-python",
   "name": "python",
   "nbconvert_exporter": "python",
   "pygments_lexer": "ipython3",
   "version": "3.11.9"
  }
 },
 "nbformat": 4,
 "nbformat_minor": 4
}
